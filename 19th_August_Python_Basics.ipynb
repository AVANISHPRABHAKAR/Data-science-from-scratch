{
 "cells": [
  {
   "cell_type": "code",
   "execution_count": null,
   "id": "22b456ba-294b-44cc-85c4-a65cb0bd0016",
   "metadata": {},
   "outputs": [],
   "source": [
    "\"\"\"1. Declare two variables, `x` and `y`, and assign them integer values. Swap the\n",
    "values of these variables without using any temporary variable. \"\"\""
   ]
  },
  {
   "cell_type": "code",
   "execution_count": 13,
   "id": "35d52c0c-55fd-44b2-9362-f6861a81a876",
   "metadata": {},
   "outputs": [
    {
     "name": "stdout",
     "output_type": "stream",
     "text": [
      "New values are x=10,y=5\n"
     ]
    }
   ],
   "source": [
    "x=5\n",
    "y=10\n",
    "x= x+y\n",
    "y=x-y\n",
    "x=x-y\n",
    "print (f\"New values are x={x},y={y}\" )\n"
   ]
  },
  {
   "cell_type": "code",
   "execution_count": null,
   "id": "32a2d2b1-30b5-41ce-a7fe-2dbcac213bb2",
   "metadata": {},
   "outputs": [],
   "source": [
    "\"\"\" 2. Create a program that calculates the area of a rectangle. Take the length and\n",
    "width as inputs from the user and store them in variables. Calculate and\n",
    "display the area.\"\"\"\""
   ]
  },
  {
   "cell_type": "code",
   "execution_count": 17,
   "id": "8fe0107c-d32d-4ea9-9a69-c161bb65d9c6",
   "metadata": {},
   "outputs": [
    {
     "name": "stdin",
     "output_type": "stream",
     "text": [
      "Enter the length 5\n",
      "Enter the width 4\n"
     ]
    },
    {
     "name": "stdout",
     "output_type": "stream",
     "text": [
      "Area is 20\n"
     ]
    }
   ],
   "source": [
    "l = int(input('Enter the length'))\n",
    "w= int(input('Enter the width'))\n",
    "A= l*w\n",
    "print (f\"Area is {A}\")"
   ]
  },
  {
   "cell_type": "code",
   "execution_count": null,
   "id": "a7e7e9ba-f8f3-410e-8626-2fa5c70becdf",
   "metadata": {},
   "outputs": [],
   "source": [
    "\"\"\"3. Write a Python program that converts temperatures from Celsius to\n",
    "Fahrenheit. Take the temperature in Celsius as input, store it in a variable,\n",
    "convert it to Fahrenheit, and display the result. \"\"\""
   ]
  },
  {
   "cell_type": "code",
   "execution_count": 20,
   "id": "d0f87081-e816-4887-80c0-cda4db21ccba",
   "metadata": {},
   "outputs": [
    {
     "name": "stdin",
     "output_type": "stream",
     "text": [
      "Enter the length 40\n"
     ]
    },
    {
     "name": "stdout",
     "output_type": "stream",
     "text": [
      "104.0\n"
     ]
    }
   ],
   "source": [
    "C = int(input('Enter the length'))\n",
    "F= (1.8 * C) + 32\n",
    "print (F)"
   ]
  },
  {
   "cell_type": "code",
   "execution_count": null,
   "id": "c9950f57-af6b-4938-88a3-8c8716433f9b",
   "metadata": {},
   "outputs": [],
   "source": [
    "# TOPIC: String Based Questions"
   ]
  },
  {
   "cell_type": "code",
   "execution_count": null,
   "id": "abf9918f-89b2-4a54-b0d0-91d819e58474",
   "metadata": {},
   "outputs": [],
   "source": [
    "\"\"\"1. Write a Python program that takes a string as input and prints the length of\n",
    "the string.\"\"\""
   ]
  },
  {
   "cell_type": "code",
   "execution_count": 21,
   "id": "3f770567-86c1-4328-805d-b1659ad8a55d",
   "metadata": {},
   "outputs": [
    {
     "name": "stdin",
     "output_type": "stream",
     "text": [
      " Avanish\n"
     ]
    },
    {
     "name": "stdout",
     "output_type": "stream",
     "text": [
      "7\n"
     ]
    }
   ],
   "source": [
    "S= str(input())\n",
    "print(len(S))"
   ]
  },
  {
   "cell_type": "code",
   "execution_count": null,
   "id": "2ce75ec4-a72d-44c1-a8b3-80c1a0600bf3",
   "metadata": {},
   "outputs": [],
   "source": [
    "\"\"\" 2. Create a program that takes a sentence from the user and counts the number\n",
    "of vowels (a, e, i, o, u) in the string. \"\"\""
   ]
  },
  {
   "cell_type": "code",
   "execution_count": 27,
   "id": "b2f8383f-c1cf-47c7-b1e0-c8fa8225c032",
   "metadata": {},
   "outputs": [
    {
     "name": "stdin",
     "output_type": "stream",
     "text": [
      " Avanish\n"
     ]
    },
    {
     "name": "stdout",
     "output_type": "stream",
     "text": [
      "3\n"
     ]
    }
   ],
   "source": [
    "s= str(input())\n",
    "vowels = set(\"aeiouAEIOU\")\n",
    "v=0\n",
    "for i in s:\n",
    "    if i in (vowels): \n",
    "        v=v+1\n",
    "print(v)\n"
   ]
  },
  {
   "cell_type": "code",
   "execution_count": 1,
   "id": "011828b9-824b-493d-b38a-dea08bf25370",
   "metadata": {},
   "outputs": [
    {
     "data": {
      "text/plain": [
       "' 3.Given a string, reverse the order of characters using string slicing and print\\nthe reversed string.'"
      ]
     },
     "execution_count": 1,
     "metadata": {},
     "output_type": "execute_result"
    }
   ],
   "source": [
    "\"\"\" 3.Given a string, reverse the order of characters using string slicing and print\n",
    "the reversed string.\"\"\"\n"
   ]
  },
  {
   "cell_type": "code",
   "execution_count": 3,
   "id": "527d87b1-5586-4303-af67-af16d7cfaa00",
   "metadata": {},
   "outputs": [
    {
     "name": "stdin",
     "output_type": "stream",
     "text": [
      "Enter a string Avanish\n"
     ]
    },
    {
     "name": "stdout",
     "output_type": "stream",
     "text": [
      "hsinavA\n"
     ]
    }
   ],
   "source": [
    "s= str(input(\"Enter a string\"))\n",
    "reverse= s[::-1]\n",
    "print(reverse)"
   ]
  },
  {
   "cell_type": "code",
   "execution_count": 4,
   "id": "9ef4ad7a-b7f4-419c-b8eb-be076e44e355",
   "metadata": {},
   "outputs": [
    {
     "data": {
      "text/plain": [
       "' 4. Write a program that takes a string as input and checks if it is a palindrome\\n(reads the same forwards and backwards). '"
      ]
     },
     "execution_count": 4,
     "metadata": {},
     "output_type": "execute_result"
    }
   ],
   "source": [
    "\"\"\" 4. Write a program that takes a string as input and checks if it is a palindrome\n",
    "(reads the same forwards and backwards). \"\"\""
   ]
  },
  {
   "cell_type": "code",
   "execution_count": 10,
   "id": "a60fa34c-2490-45af-87af-e20a2432a188",
   "metadata": {},
   "outputs": [
    {
     "name": "stdin",
     "output_type": "stream",
     "text": [
      " nun\n"
     ]
    },
    {
     "name": "stdout",
     "output_type": "stream",
     "text": [
      "Palindrome\n"
     ]
    }
   ],
   "source": [
    "s= str(input())\n",
    "r= s[::-1]\n",
    "if s==r:\n",
    "    print(\"Palindrome\")\n",
    "else: \n",
    "    print(\"na\")\n",
    "    \n",
    "\n",
    "\n",
    "    \n"
   ]
  },
  {
   "cell_type": "code",
   "execution_count": 11,
   "id": "9a85fb33-5f86-4162-9a20-cccdac3fc971",
   "metadata": {},
   "outputs": [
    {
     "data": {
      "text/plain": [
       "'5. Create a program that takes a string as input and removes all the spaces from\\nit. Print the modified string without spaces.'"
      ]
     },
     "execution_count": 11,
     "metadata": {},
     "output_type": "execute_result"
    }
   ],
   "source": [
    "\"\"\"5. Create a program that takes a string as input and removes all the spaces from\n",
    "it. Print the modified string without spaces.\"\"\"\n"
   ]
  },
  {
   "cell_type": "code",
   "execution_count": 16,
   "id": "69f7d1eb-a6de-4555-ab9b-b8a42ae7324c",
   "metadata": {},
   "outputs": [
    {
     "name": "stdin",
     "output_type": "stream",
     "text": [
      "    ava   \n"
     ]
    },
    {
     "data": {
      "text/plain": [
       "'ava'"
      ]
     },
     "execution_count": 16,
     "metadata": {},
     "output_type": "execute_result"
    }
   ],
   "source": [
    "s= str(input())\n",
    "r= s.strip()\n",
    "r"
   ]
  },
  {
   "cell_type": "code",
   "execution_count": null,
   "id": "87c79311-0047-479a-b09f-fb2ef79d5185",
   "metadata": {},
   "outputs": [],
   "source": []
  }
 ],
 "metadata": {
  "kernelspec": {
   "display_name": "Python 3 (ipykernel)",
   "language": "python",
   "name": "python3"
  },
  "language_info": {
   "codemirror_mode": {
    "name": "ipython",
    "version": 3
   },
   "file_extension": ".py",
   "mimetype": "text/x-python",
   "name": "python",
   "nbconvert_exporter": "python",
   "pygments_lexer": "ipython3",
   "version": "3.10.8"
  }
 },
 "nbformat": 4,
 "nbformat_minor": 5
}
